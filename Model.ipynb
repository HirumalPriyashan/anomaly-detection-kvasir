{
 "cells": [
  {
   "cell_type": "code",
   "execution_count": 1,
   "metadata": {},
   "outputs": [],
   "source": [
    "from tensorflow.keras.models import Sequential\n",
    "from tensorflow.keras.layers import Conv2D\n",
    "from tensorflow.keras.layers import MaxPooling2D\n",
    "from tensorflow.keras.layers import Activation\n",
    "from tensorflow.keras.layers import Flatten\n",
    "from tensorflow.keras.layers import Dense\n",
    "from tensorflow.keras import backend\n",
    "from tensorflow.keras.preprocessing.image import img_to_array\n",
    "from tensorflow.keras.preprocessing.image import ImageDataGenerator\n",
    "from tensorflow.keras.utils import to_categorical\n",
    "from tensorflow.keras.callbacks import Callback\n",
    "from tensorflow.keras.optimizers import Adam\n",
    "from sklearn.model_selection import train_test_split\n",
    "from imutils import paths\n",
    "import tensorflow as tf\n",
    "import matplotlib.pyplot as plt\n",
    "import numpy as np\n",
    "import random\n",
    "import cv2\n",
    "import os"
   ]
  },
  {
   "cell_type": "code",
   "execution_count": 2,
   "metadata": {},
   "outputs": [],
   "source": [
    "datasetPath='.\\kvasir-dataset'\n",
    "categories=[\n",
    "    'dyed-lifted-polyps', \n",
    "    'dyed-resection-margins',\n",
    "    'esophagitis',\n",
    "    'normal-cecum',\n",
    "    'normal-pylorus',\n",
    "    'normal-z-line',\n",
    "    'polyps',\n",
    "    'ulcerative-colitis'\n",
    "]\n",
    "EPOCHS = 25\n",
    "Learing_Rate = 1e-3\n",
    "Batch_Size = 128"
   ]
  },
  {
   "cell_type": "code",
   "execution_count": 3,
   "metadata": {},
   "outputs": [],
   "source": [
    "def buildModel(width, height, depth, classes):\n",
    "    model = Sequential()\n",
    "    inputShape = (height, width, depth)\n",
    "    if backend.image_data_format() == \"channels_first\":\n",
    "        inputShape = (depth, height, width)\n",
    "    # CONV => RELU => POOL layers\n",
    "    model.add(Conv2D(16, (5, 5), padding=\"same\",input_shape=inputShape))\n",
    "    model.add(Activation(\"relu\"))\n",
    "    model.add(MaxPooling2D(pool_size=(2, 2), strides=(2, 2)))\n",
    "    # CONV => RELU => POOL layers\n",
    "    model.add(Conv2D(32, (5, 5), padding=\"same\"))\n",
    "    model.add(Activation(\"relu\"))\n",
    "    model.add(MaxPooling2D(pool_size=(2, 2), strides=(2, 2)))\n",
    "    # CONV => RELU => POOL layers\n",
    "    model.add(Conv2D(64, (5, 5), padding=\"same\"))\n",
    "    model.add(Activation(\"relu\"))\n",
    "    model.add(MaxPooling2D(pool_size=(2, 2), strides=(2, 2)))\n",
    "    # FC => RELU layers\n",
    "    model.add(Flatten())\n",
    "    model.add(Dense(512))\n",
    "    model.add(Activation(\"relu\"))\n",
    "    # softmax classifier\n",
    "    model.add(Dense(classes))\n",
    "    model.add(Activation(\"softmax\"))\n",
    "    return model"
   ]
  },
  {
   "cell_type": "code",
   "execution_count": 4,
   "metadata": {},
   "outputs": [],
   "source": [
    "def buildModel2(width, height, depth, classes):\n",
    "    model = Sequential()\n",
    "    inputShape = (height, width, depth)\n",
    "    if backend.image_data_format() == \"channels_first\":\n",
    "        inputShape = (depth, height, width)\n",
    "    # CONV => RELU => POOL layers\n",
    "    model.add(Conv2D(16, (5, 5), padding=\"same\",input_shape=inputShape))\n",
    "    model.add(Activation(\"relu\"))\n",
    "    model.add(MaxPooling2D(pool_size=(2, 2), strides=(2, 2)))\n",
    "    # CONV => RELU => POOL layers\n",
    "    model.add(Conv2D(32, (5, 5), padding=\"same\"))\n",
    "    model.add(Activation(\"relu\"))\n",
    "    model.add(MaxPooling2D(pool_size=(2, 2), strides=(2, 2)))\n",
    "    # CONV => RELU => POOL layers\n",
    "    model.add(Conv2D(64, (5, 5), padding=\"same\"))\n",
    "    model.add(Activation(\"relu\"))\n",
    "    model.add(MaxPooling2D(pool_size=(2, 2), strides=(2, 2)))\n",
    "    # CONV => RELU => POOL layers\n",
    "    model.add(Conv2D(128, (5, 5), padding=\"same\"))\n",
    "    model.add(Activation(\"relu\"))\n",
    "    model.add(MaxPooling2D(pool_size=(2, 2), strides=(2, 2)))\n",
    "    # FC => RELU layers\n",
    "    model.add(Flatten())\n",
    "    model.add(Dense(512))\n",
    "    model.add(Activation(\"relu\"))\n",
    "    # softmax classifier\n",
    "    model.add(Dense(classes))\n",
    "    model.add(Activation(\"softmax\"))\n",
    "    return model"
   ]
  },
  {
   "cell_type": "code",
   "execution_count": 5,
   "metadata": {},
   "outputs": [],
   "source": [
    "def printProgressBar (iteration, total, prefix = '', suffix = '', decimals = 1, length = 100, fill = '█', printEnd = \"\\r\"):\n",
    "    percent = (\"{0:.\" + str(decimals) + \"f}\").format(100 * (iteration / float(total)))\n",
    "    filledLength = int(length * iteration // total)\n",
    "    bar = fill * filledLength + '-' * (length - filledLength)\n",
    "    print(f'\\r{prefix} |{bar}| {percent}% {suffix}', end = printEnd)\n",
    "    if iteration == total: \n",
    "        print()"
   ]
  },
  {
   "cell_type": "code",
   "execution_count": 6,
   "metadata": {},
   "outputs": [
    {
     "name": "stdout",
     "output_type": "stream",
     "text": [
      "[INFO] loading images...\n",
      "Progress: |██████████████████████████████████████████████████| 100.0% Complete\n",
      "[INFO] loading images completed...\n"
     ]
    }
   ],
   "source": [
    "data = []\n",
    "labels = []\n",
    "\n",
    "print(\"[INFO] loading images...\")\n",
    "imagePaths = sorted(list(paths.list_images(datasetPath)))\n",
    "random.seed(42)\n",
    "random.shuffle(imagePaths)\n",
    "\n",
    "printProgressBar(0, len(imagePaths), prefix = 'Progress:', suffix = 'Complete', length = 50)\n",
    "for i,imagePath in enumerate(imagePaths):\n",
    "    image = cv2.imread(imagePath)\n",
    "    image = cv2.resize(image, (96, 96))\n",
    "    image = img_to_array(image)\n",
    "    data.append(image)\n",
    "    label = imagePath.split(os.path.sep)[-2]\n",
    "    label = categories.index(label)\n",
    "    labels.append(label)\n",
    "    printProgressBar(i + 1, len(imagePaths), prefix = 'Progress:', suffix = 'Complete', length = 50)\n",
    "\n",
    "print(\"[INFO] loading images completed...\")"
   ]
  },
  {
   "cell_type": "code",
   "execution_count": 7,
   "metadata": {},
   "outputs": [],
   "source": [
    "# plt.imshow(data[1])\n",
    "# print(labels[1])\n",
    "# print(data[1])"
   ]
  },
  {
   "cell_type": "code",
   "execution_count": 8,
   "metadata": {},
   "outputs": [],
   "source": [
    "data = np.array(data, dtype=\"float\") / 255.0\n",
    "labels = np.array(labels)\n",
    "\n",
    "(trainX, testX, trainY, testY) = train_test_split(data,labels, test_size=0.25, random_state=42)\n",
    "\n",
    "trainY = to_categorical(trainY, num_classes=8)\n",
    "testY = to_categorical(testY, num_classes=8)"
   ]
  },
  {
   "cell_type": "code",
   "execution_count": 9,
   "metadata": {},
   "outputs": [
    {
     "name": "stdout",
     "output_type": "stream",
     "text": [
      "number of training examples = 3000\n",
      "number of test examples = 1000\n",
      "X_train shape: (3000, 96, 96, 3)\n",
      "Y_train shape: (3000, 8)\n",
      "X_test shape: (1000, 96, 96, 3)\n",
      "Y_test shape: (1000, 8)\n"
     ]
    }
   ],
   "source": [
    "# plt.imshow(trainX[0])\n",
    "# print(trainY[0])\n",
    "# print(trainX[0])\n",
    "print (\"number of training examples = \" + str(trainX.shape[0]))\n",
    "print (\"number of test examples = \" + str(testX.shape[0]))\n",
    "print (\"X_train shape: \" + str(trainX.shape))\n",
    "print (\"Y_train shape: \" + str(trainY.shape))\n",
    "print (\"X_test shape: \" + str(testX.shape))\n",
    "print (\"Y_test shape: \" + str(testY.shape))"
   ]
  },
  {
   "cell_type": "code",
   "execution_count": 10,
   "metadata": {},
   "outputs": [],
   "source": [
    "generator = ImageDataGenerator(rotation_range=30, width_shift_range=0.1,\n",
    "    height_shift_range=0.1, shear_range=0.2, zoom_range=0.2,\n",
    "    horizontal_flip=True, fill_mode=\"nearest\")"
   ]
  },
  {
   "cell_type": "code",
   "execution_count": 11,
   "metadata": {},
   "outputs": [],
   "source": [
    "class myCallback(Callback):\n",
    "        def on_epoch_end(self, epoch, logs={}):\n",
    "            if(logs.get('accuracy')>0.99):\n",
    "                    print(\"\\n[INFO] Reached 99% accuracy so cancelling training!\")\n",
    "                    self.model.stop_training = True\n",
    "# tb_callback=tf.keras.callbacks.TensorBoard(log_dir=log_dir)"
   ]
  },
  {
   "cell_type": "code",
   "execution_count": 12,
   "metadata": {},
   "outputs": [
    {
     "name": "stdout",
     "output_type": "stream",
     "text": [
      "[INFO] compiling model...\n",
      "WARNING:tensorflow:There are non-GPU devices in `tf.distribute.Strategy`, not using nccl allreduce.\n",
      "INFO:tensorflow:Using MirroredStrategy with devices ('/job:localhost/replica:0/task:0/device:CPU:0',)\n",
      "Model: \"sequential\"\n",
      "_________________________________________________________________\n",
      "Layer (type)                 Output Shape              Param #   \n",
      "=================================================================\n",
      "conv2d (Conv2D)              (None, 96, 96, 16)        1216      \n",
      "_________________________________________________________________\n",
      "activation (Activation)      (None, 96, 96, 16)        0         \n",
      "_________________________________________________________________\n",
      "max_pooling2d (MaxPooling2D) (None, 48, 48, 16)        0         \n",
      "_________________________________________________________________\n",
      "conv2d_1 (Conv2D)            (None, 48, 48, 32)        12832     \n",
      "_________________________________________________________________\n",
      "activation_1 (Activation)    (None, 48, 48, 32)        0         \n",
      "_________________________________________________________________\n",
      "max_pooling2d_1 (MaxPooling2 (None, 24, 24, 32)        0         \n",
      "_________________________________________________________________\n",
      "conv2d_2 (Conv2D)            (None, 24, 24, 64)        51264     \n",
      "_________________________________________________________________\n",
      "activation_2 (Activation)    (None, 24, 24, 64)        0         \n",
      "_________________________________________________________________\n",
      "max_pooling2d_2 (MaxPooling2 (None, 12, 12, 64)        0         \n",
      "_________________________________________________________________\n",
      "flatten (Flatten)            (None, 9216)              0         \n",
      "_________________________________________________________________\n",
      "dense (Dense)                (None, 512)               4719104   \n",
      "_________________________________________________________________\n",
      "activation_3 (Activation)    (None, 512)               0         \n",
      "_________________________________________________________________\n",
      "dense_1 (Dense)              (None, 8)                 4104      \n",
      "_________________________________________________________________\n",
      "activation_4 (Activation)    (None, 8)                 0         \n",
      "=================================================================\n",
      "Total params: 4,788,520\n",
      "Trainable params: 4,788,520\n",
      "Non-trainable params: 0\n",
      "_________________________________________________________________\n"
     ]
    }
   ],
   "source": [
    "print(\"[INFO] compiling model...\")\n",
    "strategy = tf.distribute.MirroredStrategy()\n",
    "with strategy.scope():\n",
    "    model = buildModel(width=96, height=96, depth=3, classes=8)\n",
    "    model.summary()"
   ]
  },
  {
   "cell_type": "code",
   "execution_count": 13,
   "metadata": {},
   "outputs": [],
   "source": [
    "opt = Adam(lr=Learing_Rate, decay=Learing_Rate / EPOCHS)\n",
    "model.compile(loss=\"binary_crossentropy\", optimizer=opt, metrics=[\"accuracy\"])"
   ]
  },
  {
   "cell_type": "code",
   "execution_count": 14,
   "metadata": {},
   "outputs": [
    {
     "name": "stdout",
     "output_type": "stream",
     "text": [
      "Epoch 1/25\n",
      "WARNING:tensorflow:From D:\\Anaconda3-2018.12-Windows-x86_64\\lib\\site-packages\\tensorflow\\python\\data\\ops\\multi_device_iterator_ops.py:601: get_next_as_optional (from tensorflow.python.data.ops.iterator_ops) is deprecated and will be removed in a future version.\n",
      "Instructions for updating:\n",
      "Use `tf.data.Iterator.get_next_as_optional()` instead.\n",
      "23/23 [==============================] - 35s 2s/step - loss: 0.3511 - accuracy: 0.2152 - val_loss: 0.2637 - val_accuracy: 0.4440\n",
      "Epoch 2/25\n",
      "23/23 [==============================] - 36s 2s/step - loss: 0.2311 - accuracy: 0.5198 - val_loss: 0.1980 - val_accuracy: 0.6080\n",
      "Epoch 3/25\n",
      "23/23 [==============================] - 34s 1s/step - loss: 0.2030 - accuracy: 0.5742 - val_loss: 0.1895 - val_accuracy: 0.6340\n",
      "Epoch 4/25\n",
      "23/23 [==============================] - 34s 1s/step - loss: 0.1930 - accuracy: 0.5898 - val_loss: 0.1875 - val_accuracy: 0.6060\n",
      "Epoch 5/25\n",
      "23/23 [==============================] - 35s 2s/step - loss: 0.1893 - accuracy: 0.5992 - val_loss: 0.1852 - val_accuracy: 0.6220\n",
      "Epoch 6/25\n",
      "23/23 [==============================] - 33s 1s/step - loss: 0.1869 - accuracy: 0.6083 - val_loss: 0.2104 - val_accuracy: 0.5610\n",
      "Epoch 7/25\n",
      "23/23 [==============================] - 35s 2s/step - loss: 0.1794 - accuracy: 0.6416 - val_loss: 0.1845 - val_accuracy: 0.6610\n",
      "Epoch 8/25\n",
      "23/23 [==============================] - 35s 2s/step - loss: 0.1807 - accuracy: 0.6215 - val_loss: 0.1793 - val_accuracy: 0.6280\n",
      "Epoch 9/25\n",
      "23/23 [==============================] - 33s 1s/step - loss: 0.1684 - accuracy: 0.6563 - val_loss: 0.1778 - val_accuracy: 0.6450\n",
      "Epoch 10/25\n",
      "23/23 [==============================] - 37s 2s/step - loss: 0.1694 - accuracy: 0.6487 - val_loss: 0.1713 - val_accuracy: 0.6660\n",
      "Epoch 11/25\n",
      "23/23 [==============================] - 36s 2s/step - loss: 0.1645 - accuracy: 0.6845 - val_loss: 0.1955 - val_accuracy: 0.6250\n",
      "Epoch 12/25\n",
      "23/23 [==============================] - 35s 2s/step - loss: 0.1653 - accuracy: 0.6727 - val_loss: 0.1858 - val_accuracy: 0.6330\n",
      "Epoch 13/25\n",
      "23/23 [==============================] - 35s 2s/step - loss: 0.1612 - accuracy: 0.6852 - val_loss: 0.1631 - val_accuracy: 0.6690\n",
      "Epoch 14/25\n",
      "23/23 [==============================] - 35s 2s/step - loss: 0.1612 - accuracy: 0.6744 - val_loss: 0.1759 - val_accuracy: 0.6470\n",
      "Epoch 15/25\n",
      "23/23 [==============================] - 37s 2s/step - loss: 0.1557 - accuracy: 0.6950 - val_loss: 0.1723 - val_accuracy: 0.6600\n",
      "Epoch 16/25\n",
      "23/23 [==============================] - 37s 2s/step - loss: 0.1550 - accuracy: 0.7023 - val_loss: 0.1556 - val_accuracy: 0.7030\n",
      "Epoch 17/25\n",
      "23/23 [==============================] - 35s 2s/step - loss: 0.1536 - accuracy: 0.7033 - val_loss: 0.1667 - val_accuracy: 0.6700\n",
      "Epoch 18/25\n",
      "23/23 [==============================] - 37s 2s/step - loss: 0.1466 - accuracy: 0.7155 - val_loss: 0.1614 - val_accuracy: 0.7000\n",
      "Epoch 19/25\n",
      "23/23 [==============================] - 38s 2s/step - loss: 0.1419 - accuracy: 0.7187 - val_loss: 0.1823 - val_accuracy: 0.6420\n",
      "Epoch 20/25\n",
      "23/23 [==============================] - 35s 2s/step - loss: 0.1434 - accuracy: 0.7284 - val_loss: 0.1640 - val_accuracy: 0.6850\n",
      "Epoch 21/25\n",
      "23/23 [==============================] - 37s 2s/step - loss: 0.1448 - accuracy: 0.7145 - val_loss: 0.1566 - val_accuracy: 0.7150\n",
      "Epoch 22/25\n",
      "23/23 [==============================] - 36s 2s/step - loss: 0.1457 - accuracy: 0.7162 - val_loss: 0.1701 - val_accuracy: 0.6640\n",
      "Epoch 23/25\n",
      "23/23 [==============================] - 35s 2s/step - loss: 0.1454 - accuracy: 0.7159 - val_loss: 0.1460 - val_accuracy: 0.7050\n",
      "Epoch 24/25\n",
      "23/23 [==============================] - 38s 2s/step - loss: 0.1361 - accuracy: 0.7465 - val_loss: 0.1401 - val_accuracy: 0.7340\n",
      "Epoch 25/25\n",
      "23/23 [==============================] - 36s 2s/step - loss: 0.1315 - accuracy: 0.7503 - val_loss: 0.1445 - val_accuracy: 0.7160\n",
      "[INFO] training network completed...\n"
     ]
    }
   ],
   "source": [
    "# print(\"[INFO] training network...\")\n",
    "callbacks=[myCallback()]\n",
    "history = model.fit(\n",
    "    x=generator.flow(trainX, trainY, batch_size=Batch_Size),\n",
    "    validation_data=(testX, testY), \n",
    "    steps_per_epoch=len(trainX) // Batch_Size,\n",
    "    epochs=EPOCHS, \n",
    "    verbose=1)\n",
    "print(\"[INFO] training network completed...\")"
   ]
  },
  {
   "cell_type": "code",
   "execution_count": 15,
   "metadata": {},
   "outputs": [
    {
     "name": "stdout",
     "output_type": "stream",
     "text": [
      "[INFO] saving model...\n",
      "[INFO] model saved\n"
     ]
    }
   ],
   "source": [
    "print(\"[INFO] saving model...\")\n",
    "model.save('Model3.model', save_format=\"h5\")\n",
    "print(\"[INFO] model saved\")"
   ]
  },
  {
   "cell_type": "code",
   "execution_count": 16,
   "metadata": {},
   "outputs": [
    {
     "data": {
      "image/png": "[encoded data removed]",
      "text/plain": [
       "<Figure size 432x288 with 1 Axes>"
      ]
     },
     "metadata": {},
     "output_type": "display_data"
    }
   ],
   "source": [
    "plt.style.use(\"ggplot\")\n",
    "plt.figure()\n",
    "N = EPOCHS\n",
    "plt.plot(np.arange(0, N), history.history[\"loss\"], label=\"train_loss\")\n",
    "plt.plot(np.arange(0, N), history.history[\"val_loss\"], label=\"val_loss\")\n",
    "plt.plot(np.arange(0, N), history.history[\"accuracy\"], label=\"train_acc\")\n",
    "plt.plot(np.arange(0, N), history.history[\"val_accuracy\"], label=\"val_acc\")\n",
    "plt.title(\"Training Loss and Accuracy\")\n",
    "plt.xlabel(\"Epoch No\")\n",
    "plt.ylabel(\"Loss/Accuracy\")\n",
    "plt.legend(loc=\"lower left\")\n",
    "plt.show()\n",
    "# plt.savefig('plot.png')"
   ]
  },
  {
   "cell_type": "code",
   "execution_count": 19,
   "metadata": {},
   "outputs": [
    {
     "data": {
      "text/plain": [
       "[0.21518105268478394,\n",
       " 0.5198467969894409,\n",
       " 0.5741643309593201,\n",
       " 0.5898328423500061,\n",
       " 0.5992339849472046,\n",
       " 0.6082869172096252,\n",
       " 0.6416440010070801,\n",
       " 0.6215181350708008,\n",
       " 0.6563370227813721,\n",
       " 0.648676872253418,\n",
       " 0.6845403909683228,\n",
       " 0.6727019548416138,\n",
       " 0.6852367520332336,\n",
       " 0.6744428873062134,\n",
       " 0.6949860453605652,\n",
       " 0.7022980451583862,\n",
       " 0.703342616558075,\n",
       " 0.7155292630195618,\n",
       " 0.7186629772186279,\n",
       " 0.7284122705459595,\n",
       " 0.714484691619873,\n",
       " 0.7162256240844727,\n",
       " 0.7158774137496948,\n",
       " 0.7465181350708008,\n",
       " 0.7503482103347778]"
      ]
     },
     "execution_count": 19,
     "metadata": {},
     "output_type": "execute_result"
    }
   ],
   "source": [
    "history.history[\"accuracy\"]"
   ]
  },
  {
   "cell_type": "code",
   "execution_count": null,
   "metadata": {},
   "outputs": [],
   "source": []
  }
 ],
 "metadata": {
  "kernelspec": {
   "display_name": "Python 3 (ipykernel)",
   "language": "python",
   "name": "python3"
  },
  "language_info": {
   "codemirror_mode": {
    "name": "ipython",
    "version": 3
   },
   "file_extension": ".py",
   "mimetype": "text/x-python",
   "name": "python",
   "nbconvert_exporter": "python",
   "pygments_lexer": "ipython3",
   "version": "3.9.7"
  }
 },
 "nbformat": 4,
 "nbformat_minor": 2
}
