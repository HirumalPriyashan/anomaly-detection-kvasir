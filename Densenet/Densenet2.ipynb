{
 "cells": [
  {
   "cell_type": "code",
   "execution_count": 1,
   "metadata": {},
   "outputs": [],
   "source": [
    "from tensorflow.keras.models import Model\n",
    "from tensorflow.keras.layers import Input, Conv2D, MaxPooling2D, Activation, Flatten, Dense, Dropout, GlobalAveragePooling2D\n",
    "from tensorflow.keras import backend\n",
    "from tensorflow.keras.preprocessing.image import img_to_array, ImageDataGenerator\n",
    "from tensorflow.keras.utils import to_categorical\n",
    "from tensorflow.keras.callbacks import Callback\n",
    "from tensorflow.keras.optimizers import Adam\n",
    "from sklearn.model_selection import train_test_split\n",
    "from tensorflow.keras.applications import DenseNet201\n",
    "from imutils import paths\n",
    "import tensorflow as tf\n",
    "import matplotlib.pyplot as plt\n",
    "import numpy as np\n",
    "import random\n",
    "import cv2\n",
    "import os"
   ]
  },
  {
   "cell_type": "code",
   "execution_count": 2,
   "metadata": {},
   "outputs": [],
   "source": [
    "datasetPath='..\\kvasir-dataset-v2'\n",
    "categories=[\n",
    "    'dyed-lifted-polyps', \n",
    "    'dyed-resection-margins',\n",
    "    'esophagitis',\n",
    "    'normal-cecum',\n",
    "    'normal-pylorus',\n",
    "    'normal-z-line',\n",
    "    'polyps',\n",
    "    'ulcerative-colitis'\n",
    "]\n",
    "EPOCHS = 25\n",
    "Learing_Rate = 1e-3\n",
    "Batch_Size = 32\n",
    "img_rows = 160\n",
    "img_cols = 160\n",
    "img_size = (img_rows,img_cols)"
   ]
  },
  {
   "cell_type": "code",
   "execution_count": 3,
   "metadata": {},
   "outputs": [],
   "source": [
    "def printProgressBar (iteration, total, prefix = '', suffix = '', decimals = 1, length = 100, fill = '█', printEnd = \"\\r\"):\n",
    "    percent = (\"{0:.\" + str(decimals) + \"f}\").format(100 * (iteration / float(total)))\n",
    "    filledLength = int(length * iteration // total)\n",
    "    bar = fill * filledLength + '-' * (length - filledLength)\n",
    "    print(f'\\r{prefix} |{bar}| {percent}% {suffix}', end = printEnd)\n",
    "    if iteration == total: \n",
    "        print()"
   ]
  },
  {
   "cell_type": "code",
   "execution_count": 4,
   "metadata": {},
   "outputs": [
    {
     "name": "stdout",
     "output_type": "stream",
     "text": [
      "[INFO] loading images...\n",
      "Progress: |██████████████████████████████████████████████████| 100.0% Complete\n",
      "[INFO] loading images completed...\n"
     ]
    }
   ],
   "source": [
    "data = []\n",
    "labels = []\n",
    "\n",
    "print(\"[INFO] loading images...\")\n",
    "imagePaths = sorted(list(paths.list_images(datasetPath)))\n",
    "random.seed(42)\n",
    "random.shuffle(imagePaths)\n",
    "\n",
    "printProgressBar(0, len(imagePaths), prefix = 'Progress:', suffix = 'Complete', length = 50)\n",
    "for i,imagePath in enumerate(imagePaths):\n",
    "    image = cv2.imread(imagePath)\n",
    "    image = cv2.resize(image, img_size)\n",
    "    image = img_to_array(image)\n",
    "    data.append(image)\n",
    "    label = imagePath.split(os.path.sep)[-2]\n",
    "    label = categories.index(label)\n",
    "    labels.append(label)\n",
    "    printProgressBar(i + 1, len(imagePaths), prefix = 'Progress:', suffix = 'Complete', length = 50)\n",
    "\n",
    "print(\"[INFO] loading images completed...\")"
   ]
  },
  {
   "cell_type": "code",
   "execution_count": 5,
   "metadata": {},
   "outputs": [],
   "source": [
    "data = np.array(data, dtype=\"float\") \n",
    "labels = np.array(labels)\n",
    "\n",
    "(trainX, testX, trainY, testY) = train_test_split(data,labels, test_size=0.25, random_state=42)\n",
    "\n",
    "trainY = to_categorical(trainY, num_classes=8)\n",
    "testY = to_categorical(testY, num_classes=8)"
   ]
  },
  {
   "cell_type": "code",
   "execution_count": 6,
   "metadata": {},
   "outputs": [
    {
     "name": "stdout",
     "output_type": "stream",
     "text": [
      "number of training examples = 6000\n",
      "number of test examples = 2000\n",
      "X_train shape: (6000, 160, 160, 3)\n",
      "Y_train shape: (6000, 8)\n",
      "X_test shape: (2000, 160, 160, 3)\n",
      "Y_test shape: (2000, 8)\n"
     ]
    }
   ],
   "source": [
    "print (\"number of training examples = \" + str(trainX.shape[0]))\n",
    "print (\"number of test examples = \" + str(testX.shape[0]))\n",
    "print (\"X_train shape: \" + str(trainX.shape))\n",
    "print (\"Y_train shape: \" + str(trainY.shape))\n",
    "print (\"X_test shape: \" + str(testX.shape))\n",
    "print (\"Y_test shape: \" + str(testY.shape))"
   ]
  },
  {
   "cell_type": "code",
   "execution_count": 7,
   "metadata": {},
   "outputs": [],
   "source": [
    "generator = ImageDataGenerator(\n",
    "    rotation_range=30, \n",
    "    width_shift_range=0.1,\n",
    "    height_shift_range=0.1, \n",
    "    shear_range=0.2, \n",
    "    zoom_range=0.2,\n",
    "    horizontal_flip=True, \n",
    "    fill_mode=\"nearest\"\n",
    ")"
   ]
  },
  {
   "cell_type": "code",
   "execution_count": 8,
   "metadata": {},
   "outputs": [],
   "source": [
    "def buildModel(width, height, depth, classes):\n",
    "    inputShape = (height, width, depth)\n",
    "    if backend.image_data_format() == \"channels_first\":\n",
    "        inputShape = (depth, height, width)\n",
    "    base_model = DenseNet201(\n",
    "        input_shape=inputShape,\n",
    "        include_top=False,\n",
    "        weights='imagenet'\n",
    "    )\n",
    "    inputs = tf.keras.layers.Input([height, width, 3], dtype = tf.float32)\n",
    "    model = tf.keras.applications.densenet.preprocess_input(inputs)\n",
    "    base_model.trainable = True\n",
    "    fine_tune_at = 600\n",
    "    for layer in base_model.layers[:fine_tune_at]:\n",
    "        layer.trainable = False\n",
    "    model = base_model(model)\n",
    "    model = GlobalAveragePooling2D()(model)\n",
    "    model = Dense(1024,activation='relu')(model)\n",
    "    model = Dropout(0.2)(model)\n",
    "    model = Dense(512,activation='relu')(model)\n",
    "    model = Dense(classes,activation='softmax')(model)\n",
    "    model = Model(inputs = inputs, outputs = model)\n",
    "    return model"
   ]
  },
  {
   "cell_type": "code",
   "execution_count": 10,
   "metadata": {},
   "outputs": [
    {
     "name": "stdout",
     "output_type": "stream",
     "text": [
      "[INFO] compiling model...\n",
      "Model: \"functional_1\"\n",
      "_________________________________________________________________\n",
      "Layer (type)                 Output Shape              Param #   \n",
      "=================================================================\n",
      "input_2 (InputLayer)         [(None, 160, 160, 3)]     0         \n",
      "_________________________________________________________________\n",
      "tf_op_layer_RealDiv (TensorF [(None, 160, 160, 3)]     0         \n",
      "_________________________________________________________________\n",
      "tf_op_layer_BiasAdd (TensorF [(None, 160, 160, 3)]     0         \n",
      "_________________________________________________________________\n",
      "tf_op_layer_RealDiv_1 (Tenso [(None, 160, 160, 3)]     0         \n",
      "_________________________________________________________________\n",
      "densenet201 (Functional)     (None, 5, 5, 1920)        18321984  \n",
      "_________________________________________________________________\n",
      "global_average_pooling2d (Gl (None, 1920)              0         \n",
      "_________________________________________________________________\n",
      "dense (Dense)                (None, 1024)              1967104   \n",
      "_________________________________________________________________\n",
      "dropout (Dropout)            (None, 1024)              0         \n",
      "_________________________________________________________________\n",
      "dense_1 (Dense)              (None, 512)               524800    \n",
      "_________________________________________________________________\n",
      "dense_2 (Dense)              (None, 8)                 4104      \n",
      "=================================================================\n",
      "Total params: 20,817,992\n",
      "Trainable params: 6,301,448\n",
      "Non-trainable params: 14,516,544\n",
      "_________________________________________________________________\n"
     ]
    }
   ],
   "source": [
    "print(\"[INFO] compiling model...\")\n",
    "model = buildModel(width=img_cols, height=img_rows, depth=3, classes=8)\n",
    "model.summary()"
   ]
  },
  {
   "cell_type": "code",
   "execution_count": 11,
   "metadata": {},
   "outputs": [],
   "source": [
    "opt = Adam(lr=Learing_Rate, decay=Learing_Rate / EPOCHS)\n",
    "model.compile(\n",
    "    loss=\"categorical_crossentropy\", \n",
    "    optimizer=opt, \n",
    "    metrics=[\n",
    "        \"accuracy\",\n",
    "        tf.keras.metrics.Precision(name=\"precision\"),\n",
    "        tf.keras.metrics.Recall(name=\"recall\"),\n",
    "        tf.keras.metrics.SpecificityAtSensitivity(0.5,name=\"specificity\")\n",
    "    ]\n",
    ")"
   ]
  },
  {
   "cell_type": "code",
   "execution_count": 12,
   "metadata": {},
   "outputs": [
    {
     "name": "stdout",
     "output_type": "stream",
     "text": [
      "[INFO] training network...\n",
      "Epoch 1/25\n",
      "187/187 [==============================] - 853s 5s/step - loss: 0.5647 - accuracy: 0.7832 - precision: 0.8118 - recall: 0.7562 - specificity: 0.9949 - val_loss: 0.3822 - val_accuracy: 0.8505 - val_precision: 0.8569 - val_recall: 0.8470 - val_specificity: 0.9979\n",
      "Epoch 2/25\n",
      "187/187 [==============================] - 842s 5s/step - loss: 0.3472 - accuracy: 0.8623 - precision: 0.8718 - recall: 0.8509 - specificity: 0.9987 - val_loss: 0.2693 - val_accuracy: 0.8980 - val_precision: 0.9016 - val_recall: 0.8930 - val_specificity: 0.9994\n",
      "Epoch 3/25\n",
      "187/187 [==============================] - 857s 5s/step - loss: 0.2930 - accuracy: 0.8837 - precision: 0.8898 - recall: 0.8765 - specificity: 0.9992 - val_loss: 0.2818 - val_accuracy: 0.8935 - val_precision: 0.8977 - val_recall: 0.8905 - val_specificity: 0.9989\n",
      "Epoch 4/25\n",
      "187/187 [==============================] - 971s 5s/step - loss: 0.2595 - accuracy: 0.8991 - precision: 0.9037 - recall: 0.8928 - specificity: 0.9994 - val_loss: 0.3337 - val_accuracy: 0.8780 - val_precision: 0.8800 - val_recall: 0.8730 - val_specificity: 0.9986\n",
      "Epoch 5/25\n",
      "187/187 [==============================] - 1071s 6s/step - loss: 0.2437 - accuracy: 0.8991 - precision: 0.9036 - recall: 0.8951 - specificity: 0.9993 - val_loss: 0.3269 - val_accuracy: 0.8890 - val_precision: 0.8974 - val_recall: 0.8835 - val_specificity: 0.9991\n",
      "Epoch 6/25\n",
      "187/187 [==============================] - 1030s 6s/step - loss: 0.2366 - accuracy: 0.9109 - precision: 0.9153 - recall: 0.9052 - specificity: 0.9994 - val_loss: 0.3335 - val_accuracy: 0.8865 - val_precision: 0.8915 - val_recall: 0.8830 - val_specificity: 0.9984\n",
      "Epoch 7/25\n",
      "187/187 [==============================] - 845s 5s/step - loss: 0.2091 - accuracy: 0.9192 - precision: 0.9212 - recall: 0.9149 - specificity: 0.9997 - val_loss: 0.2744 - val_accuracy: 0.9025 - val_precision: 0.9047 - val_recall: 0.9015 - val_specificity: 0.9993\n",
      "Epoch 8/25\n",
      "187/187 [==============================] - 846s 5s/step - loss: 0.1917 - accuracy: 0.9268 - precision: 0.9286 - recall: 0.9246 - specificity: 0.9999 - val_loss: 0.2710 - val_accuracy: 0.8955 - val_precision: 0.8971 - val_recall: 0.8940 - val_specificity: 0.9995\n",
      "Epoch 9/25\n",
      "187/187 [==============================] - 840s 4s/step - loss: 0.1913 - accuracy: 0.9273 - precision: 0.9304 - recall: 0.9234 - specificity: 0.9998 - val_loss: 0.2953 - val_accuracy: 0.8995 - val_precision: 0.9052 - val_recall: 0.8925 - val_specificity: 0.9990\n",
      "Epoch 10/25\n",
      "187/187 [==============================] - 845s 5s/step - loss: 0.2025 - accuracy: 0.9224 - precision: 0.9252 - recall: 0.9197 - specificity: 0.9997 - val_loss: 0.2839 - val_accuracy: 0.9080 - val_precision: 0.9093 - val_recall: 0.9070 - val_specificity: 0.9991\n",
      "Epoch 11/25\n",
      "187/187 [==============================] - 847s 5s/step - loss: 0.1648 - accuracy: 0.9375 - precision: 0.9407 - recall: 0.9362 - specificity: 0.9997 - val_loss: 0.2637 - val_accuracy: 0.9010 - val_precision: 0.9035 - val_recall: 0.8990 - val_specificity: 0.9989\n",
      "Epoch 12/25\n",
      "187/187 [==============================] - 841s 4s/step - loss: 0.1535 - accuracy: 0.9393 - precision: 0.9419 - recall: 0.9372 - specificity: 0.9998 - val_loss: 0.3616 - val_accuracy: 0.8970 - val_precision: 0.8988 - val_recall: 0.8925 - val_specificity: 0.9983\n",
      "Epoch 13/25\n",
      "187/187 [==============================] - 837s 4s/step - loss: 0.1641 - accuracy: 0.9353 - precision: 0.9382 - recall: 0.9335 - specificity: 0.9997 - val_loss: 0.3392 - val_accuracy: 0.8925 - val_precision: 0.8959 - val_recall: 0.8905 - val_specificity: 0.9981\n",
      "Epoch 14/25\n",
      "187/187 [==============================] - 814s 4s/step - loss: 0.1480 - accuracy: 0.9420 - precision: 0.9437 - recall: 0.9400 - specificity: 0.9997 - val_loss: 0.3236 - val_accuracy: 0.9005 - val_precision: 0.9027 - val_recall: 0.8995 - val_specificity: 0.9991\n",
      "Epoch 15/25\n",
      "187/187 [==============================] - 793s 4s/step - loss: 0.1468 - accuracy: 0.9452 - precision: 0.9479 - recall: 0.9427 - specificity: 0.9998 - val_loss: 0.3133 - val_accuracy: 0.8985 - val_precision: 0.9007 - val_recall: 0.8980 - val_specificity: 0.9987\n",
      "Epoch 16/25\n",
      "187/187 [==============================] - 818s 4s/step - loss: 0.1368 - accuracy: 0.9517 - precision: 0.9526 - recall: 0.9502 - specificity: 0.9998 - val_loss: 0.2964 - val_accuracy: 0.9050 - val_precision: 0.9058 - val_recall: 0.9040 - val_specificity: 0.9986\n",
      "Epoch 17/25\n",
      "187/187 [==============================] - 806s 4s/step - loss: 0.1375 - accuracy: 0.9502 - precision: 0.9519 - recall: 0.9482 - specificity: 0.9998 - val_loss: 0.2970 - val_accuracy: 0.9015 - val_precision: 0.9040 - val_recall: 0.8990 - val_specificity: 0.9989\n",
      "Epoch 18/25\n",
      "187/187 [==============================] - 782s 4s/step - loss: 0.1361 - accuracy: 0.9489 - precision: 0.9499 - recall: 0.9464 - specificity: 0.9998 - val_loss: 0.3345 - val_accuracy: 0.8945 - val_precision: 0.8952 - val_recall: 0.8930 - val_specificity: 0.9977\n",
      "Epoch 19/25\n",
      "187/187 [==============================] - 785s 4s/step - loss: 0.1200 - accuracy: 0.9543 - precision: 0.9550 - recall: 0.9531 - specificity: 0.9997 - val_loss: 0.3419 - val_accuracy: 0.9025 - val_precision: 0.9033 - val_recall: 0.9015 - val_specificity: 0.9984\n",
      "Epoch 20/25\n",
      "187/187 [==============================] - 782s 4s/step - loss: 0.1158 - accuracy: 0.9522 - precision: 0.9541 - recall: 0.9511 - specificity: 1.0000 - val_loss: 0.2997 - val_accuracy: 0.8950 - val_precision: 0.8958 - val_recall: 0.8945 - val_specificity: 0.9987\n",
      "Epoch 21/25\n",
      "187/187 [==============================] - 782s 4s/step - loss: 0.1175 - accuracy: 0.9556 - precision: 0.9562 - recall: 0.9539 - specificity: 0.9999 - val_loss: 0.3579 - val_accuracy: 0.8980 - val_precision: 0.8988 - val_recall: 0.8975 - val_specificity: 0.9981\n",
      "Epoch 22/25\n",
      "187/187 [==============================] - 788s 4s/step - loss: 0.1117 - accuracy: 0.9603 - precision: 0.9609 - recall: 0.9593 - specificity: 0.9998 - val_loss: 0.3101 - val_accuracy: 0.8990 - val_precision: 0.8989 - val_recall: 0.8980 - val_specificity: 0.9986\n",
      "Epoch 23/25\n",
      "187/187 [==============================] - 813s 4s/step - loss: 0.0982 - accuracy: 0.9616 - precision: 0.9624 - recall: 0.9608 - specificity: 0.9999 - val_loss: 0.4270 - val_accuracy: 0.8935 - val_precision: 0.8950 - val_recall: 0.8905 - val_specificity: 0.9970\n",
      "Epoch 24/25\n",
      "187/187 [==============================] - 805s 4s/step - loss: 0.0986 - accuracy: 0.9643 - precision: 0.9647 - recall: 0.9625 - specificity: 1.0000 - val_loss: 0.3324 - val_accuracy: 0.9100 - val_precision: 0.9109 - val_recall: 0.9095 - val_specificity: 0.9977\n",
      "Epoch 25/25\n",
      "187/187 [==============================] - 778s 4s/step - loss: 0.1081 - accuracy: 0.9603 - precision: 0.9609 - recall: 0.9586 - specificity: 0.9998 - val_loss: 0.4569 - val_accuracy: 0.8840 - val_precision: 0.8869 - val_recall: 0.8820 - val_specificity: 0.9976\n",
      "[INFO] training network completed...\n"
     ]
    }
   ],
   "source": [
    "print(\"[INFO] training network...\")\n",
    "history = model.fit(\n",
    "    x=generator.flow(trainX, trainY, batch_size=Batch_Size),\n",
    "    validation_data=(testX, testY), \n",
    "    steps_per_epoch=len(trainX) // Batch_Size,\n",
    "    epochs=EPOCHS, \n",
    "    verbose=1)\n",
    "print(\"[INFO] training network completed...\")"
   ]
  },
  {
   "cell_type": "code",
   "execution_count": 13,
   "metadata": {},
   "outputs": [
    {
     "name": "stdout",
     "output_type": "stream",
     "text": [
      "[INFO] saving model...\n",
      "[INFO] model saved\n"
     ]
    }
   ],
   "source": [
    "print(\"[INFO] saving model...\")\n",
    "model.save('Model_DenseNet_201-v2.model', save_format=\"h5\")\n",
    "print(\"[INFO] model saved\")"
   ]
  },
  {
   "cell_type": "code",
   "execution_count": 14,
   "metadata": {},
   "outputs": [
    {
     "data": {
      "image/png": "[encoded data removed]",
      "text/plain": [
       "<Figure size 432x288 with 1 Axes>"
      ]
     },
     "metadata": {
      "needs_background": "light"
     },
     "output_type": "display_data"
    },
    {
     "data": {
      "text/plain": [
       "<Figure size 432x288 with 0 Axes>"
      ]
     },
     "metadata": {},
     "output_type": "display_data"
    }
   ],
   "source": [
    "plt.figure()\n",
    "N = EPOCHS\n",
    "plt.plot(np.arange(0, N), history.history[\"loss\"], label=\"train_loss\")\n",
    "plt.plot(np.arange(0, N), history.history[\"val_loss\"], label=\"val_loss\")\n",
    "plt.plot(np.arange(0, N), history.history[\"accuracy\"], label=\"train_acc\")\n",
    "plt.plot(np.arange(0, N), history.history[\"val_accuracy\"], label=\"val_acc\")\n",
    "plt.title(\"Training Loss and Validation Accuracy\")\n",
    "plt.xlabel(\"Epoch No\")\n",
    "plt.ylabel(\"Loss/Accuracy\")\n",
    "plt.legend(loc=\"lower left\")\n",
    "plt.show()\n",
    "plt.savefig('plot_DenseNet_201-v2.png')"
   ]
  },
  {
   "cell_type": "code",
   "execution_count": 15,
   "metadata": {},
   "outputs": [
    {
     "data": {
      "image/png": "[encoded data removed]",
      "text/plain": [
       "<Figure size 432x288 with 1 Axes>"
      ]
     },
     "metadata": {
      "needs_background": "light"
     },
     "output_type": "display_data"
    },
    {
     "data": {
      "text/plain": [
       "<Figure size 432x288 with 0 Axes>"
      ]
     },
     "metadata": {},
     "output_type": "display_data"
    }
   ],
   "source": [
    "plt.figure()\n",
    "N = EPOCHS\n",
    "plt.plot(np.arange(0, N), history.history[\"accuracy\"], label=\"train_acc\")\n",
    "plt.plot(np.arange(0, N), history.history[\"val_accuracy\"], label=\"val_acc\")\n",
    "plt.title(\"Training and Validation Accuracy\")\n",
    "plt.xlabel(\"Epoch No\")\n",
    "plt.ylabel(\"Accuracy\")\n",
    "plt.legend(loc=\"lower left\")\n",
    "plt.show()\n",
    "plt.savefig('plot_DenseNet201_Accuracy-v2.png')"
   ]
  },
  {
   "cell_type": "code",
   "execution_count": null,
   "metadata": {},
   "outputs": [],
   "source": [
    "plt.figure()\n",
    "N = EPOCHS\n",
    "plt.plot(np.arange(0, N), history.history[\"loss\"], label=\"train_loss\")\n",
    "plt.plot(np.arange(0, N), history.history[\"val_loss\"], label=\"val_loss\")\n",
    "plt.title(\"Training and Validation Loss\")\n",
    "plt.xlabel(\"Epoch No\")\n",
    "plt.ylabel(\"Loss\")\n",
    "plt.legend(loc=\"lower left\")\n",
    "plt.show()\n",
    "plt.savefig('plot_DenseNet201_Loss-v2.png')"
   ]
  },
  {
   "cell_type": "code",
   "execution_count": null,
   "metadata": {},
   "outputs": [],
   "source": [
    "plt.figure()\n",
    "N = EPOCHS\n",
    "plt.plot(np.arange(0, N), history.history[\"precision\"], label=\"train_precision\")\n",
    "plt.plot(np.arange(0, N), history.history[\"recall\"], label=\"train_recall\")\n",
    "plt.plot(np.arange(0, N), history.history[\"specificity\"], label=\"train_specificity\")\n",
    "plt.plot(np.arange(0, N), history.history[\"accuracy\"], label=\"train_accuracy\")\n",
    "plt.plot(np.arange(0, N), history.history[\"val_precision\"], label=\"val_precision\")\n",
    "plt.plot(np.arange(0, N), history.history[\"val_recall\"], label=\"val_recall\")\n",
    "plt.plot(np.arange(0, N), history.history[\"val_specificity\"], label=\"val_specificity\")\n",
    "plt.plot(np.arange(0, N), history.history[\"val_accuracy\"], label=\"val_accuracy\")\n",
    "plt.title(\"Training Metrics\")\n",
    "plt.xlabel(\"Epoch No\")\n",
    "plt.ylabel(\"Value\")\n",
    "plt.legend(loc=\"lower left\")\n",
    "plt.show()\n",
    "plt.savefig('plot_DenseNet_201_metrics-v2.png')"
   ]
  }
 ],
 "metadata": {
  "kernelspec": {
   "display_name": "Python 3",
   "language": "python",
   "name": "python3"
  },
  "language_info": {
   "codemirror_mode": {
    "name": "ipython",
    "version": 3
   },
   "file_extension": ".py",
   "mimetype": "text/x-python",
   "name": "python",
   "nbconvert_exporter": "python",
   "pygments_lexer": "ipython3",
   "version": "3.7.1"
  }
 },
 "nbformat": 4,
 "nbformat_minor": 2
}
